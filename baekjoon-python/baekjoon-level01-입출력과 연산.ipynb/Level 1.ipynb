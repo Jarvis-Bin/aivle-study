{
 "cells": [
  {
   "cell_type": "markdown",
   "id": "7d1ba60f",
   "metadata": {},
   "source": [
    "## 1. 입출력과 사칙연산 단계\n",
    "- https://www.acmicpc.net/step/1"
   ]
  },
  {
   "cell_type": "markdown",
   "id": "2fb38d8c",
   "metadata": {},
   "source": [
    "1) 2557번. Hello World\n",
    "- 문제: Hello World!를 출력하시오.\n",
    "- 입력: 없음\n",
    "- 출력: Hello World!"
   ]
  },
  {
   "cell_type": "code",
   "execution_count": 3,
   "id": "76834ebc",
   "metadata": {},
   "outputs": [
    {
     "name": "stdout",
     "output_type": "stream",
     "text": [
      "Hello World!\n"
     ]
    }
   ],
   "source": [
    "print('Hello World!')"
   ]
  },
  {
   "cell_type": "markdown",
   "id": "5eb13ed0",
   "metadata": {},
   "source": [
    "2) 10718번. We love kriii\n",
    "- 문제: ACM-ICPC 인터넷 예선, Regional, 그리고 World Finals까지 <br> 이미 2회씩 진출해버린 kriii는 미련을 버리지 못하고 왠지 모르게 올해에도 파주 World Finals 준비 캠프에 참여했다.<br>\n",
    "대회를 뜰 줄 모르는 지박령 kriii를 위해서 격려의 문구를 출력해주자.\n",
    "- 입력: 없음\n",
    "- 출력: 두 줄에 걸쳐 \"강한친구 대한육군\"을 한 줄에 한 번씩 출력한다."
   ]
  },
  {
   "cell_type": "code",
   "execution_count": 2,
   "id": "20728d0c",
   "metadata": {},
   "outputs": [
    {
     "name": "stdout",
     "output_type": "stream",
     "text": [
      "강한친구 대한육군\n",
      "강한친구 대한육군\n",
      "\n"
     ]
    }
   ],
   "source": [
    "print('강한친구 대한육군\\n'*2)"
   ]
  },
  {
   "cell_type": "markdown",
   "id": "c9b9a584",
   "metadata": {},
   "source": [
    "3) 10171번. 고양이\n",
    "- 문제: 아래 예제와 같이 고양이를 출력하시오.\n",
    "- 입력: 없음\n",
    "- 출력: <img src=\"cat.png\"><br>"
   ]
  },
  {
   "cell_type": "code",
   "execution_count": 6,
   "id": "402adc99",
   "metadata": {},
   "outputs": [
    {
     "name": "stdout",
     "output_type": "stream",
     "text": [
      "\\    /\\\n",
      " )  ( ')\n",
      "(  /  )\n",
      " \\(__)|\n"
     ]
    }
   ],
   "source": [
    "print(\"\\    /\\\\\\n )  ( ')\\n(  /  )\\n \\(__)|\")"
   ]
  },
  {
   "cell_type": "markdown",
   "id": "3c8d4903",
   "metadata": {},
   "source": [
    "3) 10172. 개\n",
    "- 문제: 아래 예제와 같이 개를 출력하시오.\n",
    "- 입력: 없음\n",
    "- 출력: <img src=\"dog.png\"><br>"
   ]
  },
  {
   "cell_type": "code",
   "execution_count": 7,
   "id": "e47c0666",
   "metadata": {},
   "outputs": [
    {
     "name": "stdout",
     "output_type": "stream",
     "text": [
      "|\\_/|\n",
      "|q p|   /}\n",
      "( 0 )\"\"\"\\\n",
      "|\"^\"`    |\n",
      "||_/=\\\\__|\n"
     ]
    }
   ],
   "source": [
    "print(\"|\\\\_/|\\n|q p|   /}\\n( 0 )\\\"\\\"\\\"\\\\\\n|\\\"^\\\"`    |\\n||_/=\\\\\\\\__|\")"
   ]
  },
  {
   "cell_type": "markdown",
   "id": "efbf8439",
   "metadata": {},
   "source": []
  },
  {
   "cell_type": "markdown",
   "id": "0ddd07df",
   "metadata": {},
   "source": [
    "5) 1000번. A+B\n",
    "- 문제: 두 정수 A와 B를 입력받은 다음, A+B를 출력하는 프로그램을 작성하시오.\n",
    "- 입력: 첫째 줄에 A와 B가 주어진다. (0 < A, B < 10) \n",
    "- 예제: 1 2"
   ]
  },
  {
   "cell_type": "code",
   "execution_count": 8,
   "id": "c8001113",
   "metadata": {},
   "outputs": [
    {
     "name": "stdout",
     "output_type": "stream",
     "text": [
      "1 2\n",
      "3\n"
     ]
    }
   ],
   "source": [
    "a, b = map(int, input().split())\n",
    "print(a+b)"
   ]
  },
  {
   "cell_type": "markdown",
   "id": "4cc08afd",
   "metadata": {},
   "source": [
    "6) 1001번. A-B\n",
    "- 문제: 두 정수 A와 B를 입력받은 다음, A+B를 출력하는 프로그램을 작성하시오.\n",
    "- 입력: 첫째 줄에 A와 B가 주어진다. (0 < A, B < 10)\n",
    "- 예제: 3 2"
   ]
  },
  {
   "cell_type": "code",
   "execution_count": 9,
   "id": "828cc20a",
   "metadata": {},
   "outputs": [
    {
     "name": "stdout",
     "output_type": "stream",
     "text": [
      "3 2\n",
      "1\n"
     ]
    }
   ],
   "source": [
    "a, b = map(int, input().split())\n",
    "print(a-b)"
   ]
  },
  {
   "cell_type": "markdown",
   "id": "906b4276",
   "metadata": {},
   "source": [
    "7) 10998번. A×B\n",
    "- 문제: 두 정수 A와 B를 입력받은 다음, A×B를 출력하는 프로그램을 작성하시오.\n",
    "- 입력: 첫째 줄에 A와 B가 주어진다. (0 < A, B < 10)\n",
    "- 예제: 1 2"
   ]
  },
  {
   "cell_type": "code",
   "execution_count": 10,
   "id": "eb07f960",
   "metadata": {},
   "outputs": [
    {
     "name": "stdout",
     "output_type": "stream",
     "text": [
      "1 2\n",
      "2\n"
     ]
    }
   ],
   "source": [
    "a, b = map(int, input().split())\n",
    "print(a*b)"
   ]
  },
  {
   "cell_type": "markdown",
   "id": "377b2dbb",
   "metadata": {},
   "source": [
    "8) 1008번. A/B\n",
    "- 문제: 두 정수 A와 B를 입력받은 다음, A×B를 출력하는 프로그램을 작성하시오.\n",
    "- 입력: 첫째 줄에 A와 B가 주어진다. (0 < A, B < 10)\n",
    "- 예제: 1 3"
   ]
  },
  {
   "cell_type": "code",
   "execution_count": 11,
   "id": "f73d9cba",
   "metadata": {},
   "outputs": [
    {
     "name": "stdout",
     "output_type": "stream",
     "text": [
      "1 3\n",
      "0.3333333333333333\n"
     ]
    }
   ],
   "source": [
    "a, b = map(int, input().split())\n",
    "print(a/b)"
   ]
  },
  {
   "cell_type": "markdown",
   "id": "c735bf1b",
   "metadata": {},
   "source": [
    "9) 10869번. 사칙연산\n",
    "- 문제: 두 자연수 A와 B가 주어진다. 이때, A+B, A-B, A*B, A/B(몫), A%B(나머지)를 출력하는 프로그램을 작성하시오. \n",
    "- 입력: 두 자연수 A와 B가 주어진다. (1 ≤ A, B ≤ 10,000)\n",
    "- 예제: 7 3"
   ]
  },
  {
   "cell_type": "code",
   "execution_count": 13,
   "id": "f13fb74b",
   "metadata": {},
   "outputs": [
    {
     "name": "stdout",
     "output_type": "stream",
     "text": [
      "7 3\n",
      "10\n",
      "4\n",
      "21\n",
      "2\n",
      "1\n"
     ]
    }
   ],
   "source": [
    "a, b = map(int, input().split())\n",
    "print(a+b)\n",
    "print(a-b)\n",
    "print(a*b)\n",
    "print(a//b)\n",
    "print(a%b)"
   ]
  },
  {
   "cell_type": "markdown",
   "id": "b4f75364",
   "metadata": {},
   "source": [
    "10) 10430번. 나머지\n",
    "- 문제: (A+B)%C는 ((A%C) + (B%C))%C 와 같을까? (A×B)%C는 ((A%C) × (B%C))%C 와 같을까?\n",
    "- 세 수 A, B, C가 주어졌을 때, 위의 네 가지 값을 구하는 프로그램을 작성하시오.\n",
    "- 입력: 첫째 줄에 A, B, C가 순서대로 주어진다. (2 ≤ A, B, C ≤ 10000)\n",
    "- 예제: 5 8 4\n",
    "- 출력: 첫째 줄에 (A+B)%C, 둘째 줄에 ((A%C) + (B%C))%C, 셋째 줄에 (A×B)%C, 넷째 줄에 ((A%C) × (B%C))%C를 출력한다."
   ]
  },
  {
   "cell_type": "code",
   "execution_count": 15,
   "id": "e17875a3",
   "metadata": {},
   "outputs": [
    {
     "name": "stdout",
     "output_type": "stream",
     "text": [
      "5 8 4\n",
      "1\n",
      "1\n",
      "0\n",
      "0\n"
     ]
    }
   ],
   "source": [
    "A, B, C = map(int, input().split())\n",
    "print((A+B)%C)\n",
    "print(((A%C)+(B%C))%C)\n",
    "print((A*B)%C)\n",
    "print(((A%C)*(B%C))%C)"
   ]
  },
  {
   "cell_type": "markdown",
   "id": "d3f4657f",
   "metadata": {},
   "source": [
    "11) 2588번. 곱셈\n",
    "- 문제: (세 자리 수) × (세 자리 수)는 다음과 같은 과정을 통하여 이루어진다. <br>\n",
    "아래 사진의 (1)과 (2)위치에 들어갈 세 자리 자연수가 주어질 때 <br>\n",
    "(3), (4), (5), (6)위치에 들어갈 값을 구하는 프로그램을 작성하시오.\n",
    "\n",
    "<img src=\"https://onlinejudgeimages.s3-ap-northeast-1.amazonaws.com/upload/images/f5NhGHVLM4Ix74DtJrwfC97KepPl27s%20(1).png\"><br>\n",
    "\n",
    "- 입력: 첫째 줄에 (1)의 위치에 들어갈 세 자리 자연수가, 둘째 줄에 (2)의 위치에 들어갈 세자리 자연수가 주어진다.\n",
    "- 예제: 472 <br>&nbsp;&nbsp;&nbsp;&nbsp;&nbsp;&nbsp;&nbsp;385\n",
    "- 출력: 첫째 줄부터 넷째 줄까지 차례대로 (3), (4), (5), (6)에 들어갈 값을 출력한다."
   ]
  },
  {
   "cell_type": "code",
   "execution_count": 20,
   "id": "5386d9eb",
   "metadata": {},
   "outputs": [
    {
     "name": "stdout",
     "output_type": "stream",
     "text": [
      "472\n",
      "385\n",
      "2360\n",
      "3776\n",
      "1416\n",
      "181720\n"
     ]
    }
   ],
   "source": [
    "a = int(input())\n",
    "b = input()\n",
    "print(a*int(b[2]))\n",
    "print(a*int(b[1]))\n",
    "print(a*int(b[0]))\n",
    "c = a*int(b)\n",
    "print(c)"
   ]
  },
  {
   "cell_type": "code",
   "execution_count": null,
   "id": "8c2b2d44",
   "metadata": {},
   "outputs": [],
   "source": []
  }
 ],
 "metadata": {
  "kernelspec": {
   "display_name": "Python 3",
   "language": "python",
   "name": "python3"
  },
  "language_info": {
   "codemirror_mode": {
    "name": "ipython",
    "version": 3
   },
   "file_extension": ".py",
   "mimetype": "text/x-python",
   "name": "python",
   "nbconvert_exporter": "python",
   "pygments_lexer": "ipython3",
   "version": "3.8.8"
  }
 },
 "nbformat": 4,
 "nbformat_minor": 5
}
