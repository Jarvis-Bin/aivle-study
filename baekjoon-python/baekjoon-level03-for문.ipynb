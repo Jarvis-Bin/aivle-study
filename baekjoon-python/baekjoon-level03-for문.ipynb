{
 "cells": [
  {
   "cell_type": "markdown",
   "id": "95c445ed",
   "metadata": {},
   "source": [
    "## 2739 구구단\n",
    "N을 입력받은 뒤, 구구단 N단을 출력하는 프로그램을 작성하시오. 출력 형식에 맞춰서 출력하면 된다.\n",
    "### 입력\n",
    "- 첫째 줄에 N이 주어진다. N은 1보다 크거나 같고, 9보다 작거나 같다.\n",
    "### 출력\n",
    "- 출력형식과 같게 N*1부터 N*9까지 출력한다. \n",
    "### 예제 입력 1\n",
    "- 2\n",
    "### 예제 출력 1\n",
    "- 2 * 1 = 2\n",
    "- 2 * 2 = 4\n",
    "- 2 * 3 = 6\n",
    "- 2 * 4 = 8\n",
    "- 2 * 5 = 10\n",
    "- 2 * 6 = 12\n",
    "- 2 * 7 = 14\n",
    "- 2 * 8 = 16\n",
    "- 2 * 9 = 18"
   ]
  },
  {
   "cell_type": "code",
   "execution_count": 2,
   "id": "84f43e5e",
   "metadata": {},
   "outputs": [
    {
     "name": "stdout",
     "output_type": "stream",
     "text": [
      "3\n",
      "3 * 1 = 3\n",
      "3 * 2 = 6\n",
      "3 * 3 = 9\n",
      "3 * 4 = 12\n",
      "3 * 5 = 15\n",
      "3 * 6 = 18\n",
      "3 * 7 = 21\n",
      "3 * 8 = 24\n",
      "3 * 9 = 27\n"
     ]
    }
   ],
   "source": [
    "n = input()\n",
    "n = int(n)\n",
    "\n",
    "i = 1\n",
    "for idx in range(9):\n",
    "    print(n, \"*\", i, \"=\", (n * i)) # 붙이기 연산자(+) 대신 ,를 쓴다.\n",
    "    i += 1"
   ]
  },
  {
   "cell_type": "markdown",
   "id": "89f37171",
   "metadata": {},
   "source": [
    "## 10950 A+B - 3\n",
    "두 정수 A와 B를 입력받은 다음, A+B를 출력하는 프로그램을 작성하시오.\n",
    "### 입력\n",
    "- 첫째 줄에 테스트 케이스의 개수 T가 주어진다.\n",
    "- 각 테스트 케이스는 한 줄로 이루어져 있으며, 각 줄에 A와 B가 주어진다. (0 < A, B < 10)\n",
    "### 출력\n",
    "- 각 테스트 케이스마다 A+B를 출력한다. \n",
    "### 예제 입력 1\n",
    "- 5\n",
    "- 1 1\n",
    "- 2 3\n",
    "- 3 4\n",
    "- 9 8\n",
    "- 5 2\n",
    "### 예제 출력 1\n",
    "- 2\n",
    "- 5\n",
    "- 7\n",
    "- 17\n",
    "- 7"
   ]
  },
  {
   "cell_type": "code",
   "execution_count": 2,
   "id": "96ecaef7",
   "metadata": {},
   "outputs": [
    {
     "name": "stdout",
     "output_type": "stream",
     "text": [
      "5\n",
      "1 1\n",
      "2\n",
      "2 3\n",
      "5\n",
      "3 4\n",
      "7\n",
      "9 8\n",
      "17\n",
      "5 2\n",
      "7\n"
     ]
    }
   ],
   "source": [
    "\n",
    "t = input()\n",
    "t = int(t)\n",
    "\n",
    "i = 0\n",
    "for i in range(t):\n",
    "    a, b = input().split()\n",
    "    a = int(a)\n",
    "    b = int(b)\n",
    "    print(a + b)"
   ]
  },
  {
   "cell_type": "markdown",
   "id": "155c24f6",
   "metadata": {},
   "source": [
    "## 8393 합\n",
    "n이 주어졌을 때, 1부터 n까지 합을 구하는 프로그램을 작성하시오.\n",
    "### 입력\n",
    "- 첫째 줄에 n (1 ≤ n ≤ 10,000)이 주어진다.\n",
    "### 출력\n",
    "- 1부터 n까지 합을 출력한다.\n",
    "### 예제 입력 1\n",
    "- 3\n",
    "### 예제 출력 1\n",
    "- 6"
   ]
  },
  {
   "cell_type": "code",
   "execution_count": 3,
   "id": "803f84ff",
   "metadata": {},
   "outputs": [
    {
     "name": "stdout",
     "output_type": "stream",
     "text": [
      "3\n",
      "6\n"
     ]
    }
   ],
   "source": [
    "n = input()\n",
    "n = int(n)\n",
    "\n",
    "i = 0\n",
    "sum = 0\n",
    "for i in range(n + 1): # range(param1, param2, param3): param1, 3는 생략가능\n",
    "                        # 각 param들은 시작, 종료, step을 의미\n",
    "                        # step의 ex) 3일 경우 0 3 6..으로 나감\n",
    "    sum = sum + i # 자바의 +=는 없다. 파이썬에선 다른 의미임\n",
    "    \n",
    "print(sum)"
   ]
  },
  {
   "cell_type": "markdown",
   "id": "27482445",
   "metadata": {},
   "source": [
    "## 15552 빠른 A+B\n",
    "본격적으로 for문 문제를 풀기 전에 주의해야 할 점이 있다. 입출력 방식이 느리면 여러 줄을 입력받거나 출력할 때 시간초과가 날 수 있다는 점이다.\n",
    "\n",
    "C++을 사용하고 있고 cin/cout을 사용하고자 한다면, cin.tie(NULL)과 sync_with_stdio(false)를 둘 다 적용해 주고, endl 대신 개행문자(\\n)를 쓰자. 단, 이렇게 하면 더 이상 scanf/printf/puts/getchar/putchar 등 C의 입출력 방식을 사용하면 안 된다.\n",
    "\n",
    "Java를 사용하고 있다면, Scanner와 System.out.println 대신 BufferedReader와 BufferedWriter를 사용할 수 있다. BufferedWriter.flush는 맨 마지막에 한 번만 하면 된다.\n",
    "\n",
    "Python을 사용하고 있다면, input 대신 sys.stdin.readline을 사용할 수 있다. 단, 이때는 맨 끝의 개행문자까지 같이 입력받기 때문에 문자열을 저장하고 싶을 경우 .rstrip()을 추가로 해 주는 것이 좋다.\n",
    "\n",
    "또한 입력과 출력 스트림은 별개이므로, 테스트케이스를 전부 입력받아서 저장한 뒤 전부 출력할 필요는 없다. 테스트케이스를 하나 받은 뒤 하나 출력해도 된다.\n",
    "자세한 설명 및 다른 언어의 경우는 이 글에 설명되어 있다.\n",
    "이 블로그 글에서 BOJ의 기타 여러 가지 팁을 볼 수 있다.\n",
    "### 입력\n",
    "- 첫 줄에 테스트케이스의 개수 T가 주어진다. T는 최대 1,000,000이다. 다음 T줄에는 각각 두 정수 A와 B가 주어진다. A와 B는 1 이상, 1,000 이하이다.\n",
    "### 출력\n",
    "- 각 테스트케이스마다 A+B를 한 줄에 하나씩 순서대로 출력한다.\n",
    "### 예제 입력 1\n",
    "- 5\n",
    "- 1 1\n",
    "- 12 34\n",
    "- 5 500\n",
    "- 40 60\n",
    "- 1000 1000\n",
    "### 예제 출력 1\n",
    "- 2\n",
    "- 46\n",
    "- 505\n",
    "- 100\n",
    "- 2000"
   ]
  },
  {
   "cell_type": "code",
   "execution_count": 7,
   "id": "2b954f74",
   "metadata": {},
   "outputs": [
    {
     "name": "stdout",
     "output_type": "stream",
     "text": [
      "5\n"
     ]
    },
    {
     "ename": "ValueError",
     "evalue": "not enough values to unpack (expected 2, got 0)",
     "output_type": "error",
     "traceback": [
      "\u001b[1;31m---------------------------------------------------------------------------\u001b[0m",
      "\u001b[1;31mValueError\u001b[0m                                Traceback (most recent call last)",
      "\u001b[1;32m<ipython-input-7-9f89b2fb6abe>\u001b[0m in \u001b[0;36m<module>\u001b[1;34m\u001b[0m\n\u001b[0;32m      7\u001b[0m \u001b[0mi\u001b[0m \u001b[1;33m=\u001b[0m \u001b[1;36m0\u001b[0m\u001b[1;33m\u001b[0m\u001b[1;33m\u001b[0m\u001b[0m\n\u001b[0;32m      8\u001b[0m \u001b[1;32mfor\u001b[0m \u001b[0mi\u001b[0m \u001b[1;32min\u001b[0m \u001b[0mrange\u001b[0m\u001b[1;33m(\u001b[0m\u001b[0mt\u001b[0m\u001b[1;33m)\u001b[0m\u001b[1;33m:\u001b[0m\u001b[1;33m\u001b[0m\u001b[1;33m\u001b[0m\u001b[0m\n\u001b[1;32m----> 9\u001b[1;33m     \u001b[0ma\u001b[0m\u001b[1;33m,\u001b[0m \u001b[0mb\u001b[0m \u001b[1;33m=\u001b[0m \u001b[0mmap\u001b[0m\u001b[1;33m(\u001b[0m\u001b[0mint\u001b[0m\u001b[1;33m,\u001b[0m \u001b[0msys\u001b[0m\u001b[1;33m.\u001b[0m\u001b[0mstdin\u001b[0m\u001b[1;33m.\u001b[0m\u001b[0mreadline\u001b[0m\u001b[1;33m(\u001b[0m\u001b[1;33m)\u001b[0m\u001b[1;33m.\u001b[0m\u001b[0msplit\u001b[0m\u001b[1;33m(\u001b[0m\u001b[1;33m)\u001b[0m\u001b[1;33m)\u001b[0m \u001b[1;31m#주피터에서는 sys.stdin.readline() 사용이 불가\u001b[0m\u001b[1;33m\u001b[0m\u001b[1;33m\u001b[0m\u001b[0m\n\u001b[0m\u001b[0;32m     10\u001b[0m                                                         \u001b[1;31m#sys import로 입력 받을 시, 성능 향상\u001b[0m\u001b[1;33m\u001b[0m\u001b[1;33m\u001b[0m\u001b[1;33m\u001b[0m\u001b[0m\n\u001b[0;32m     11\u001b[0m     \u001b[0mprint\u001b[0m\u001b[1;33m(\u001b[0m\u001b[0ma\u001b[0m \u001b[1;33m+\u001b[0m \u001b[0mb\u001b[0m\u001b[1;33m)\u001b[0m\u001b[1;33m\u001b[0m\u001b[1;33m\u001b[0m\u001b[0m\n",
      "\u001b[1;31mValueError\u001b[0m: not enough values to unpack (expected 2, got 0)"
     ]
    }
   ],
   "source": [
    "import sys\n",
    "\n",
    "t  = input()\n",
    "t = int(t)\n",
    "\n",
    "i = 0\n",
    "for i in range(t):\n",
    "    a, b = map(int, sys.stdin.readline().split()) #주피터에서는 sys.stdin.readline() 사용이 불가\n",
    "                                                        #sys import로 입력 받을 시, 성능 향상\n",
    "    print(a + b)"
   ]
  },
  {
   "cell_type": "markdown",
   "id": "8484196f",
   "metadata": {},
   "source": [
    "## 2741 N찍기\n",
    "자연수 N이 주어졌을 때, 1부터 N까지 한 줄에 하나씩 출력하는 프로그램을 작성하시오.\n",
    "### 입력\n",
    "- 첫째 줄에 100,000보다 작거나 같은 자연수 N이 주어진다.\n",
    "### 출력\n",
    "- 첫째 줄부터 N번째 줄 까지 차례대로 출력한다.\n",
    "### 예제 입력 1\n",
    "- 5\n",
    "### 예제 출력 1\n",
    "- 1\n",
    "- 2\n",
    "- 3\n",
    "- 4\n",
    "- 5"
   ]
  },
  {
   "cell_type": "code",
   "execution_count": 6,
   "id": "22052e8c",
   "metadata": {},
   "outputs": [
    {
     "name": "stdout",
     "output_type": "stream",
     "text": [
      "5\n",
      "1\n",
      "2\n",
      "3\n",
      "4\n",
      "5\n"
     ]
    }
   ],
   "source": [
    "n = int(input())\n",
    "\n",
    "for _ in range(n): # n만큼 for문을 돌린다. #idx 신경 안 쓰고 횟수만 신경 쓸 때 유용\n",
    "    print(_ + 1)"
   ]
  },
  {
   "cell_type": "markdown",
   "id": "74a8db77",
   "metadata": {},
   "source": [
    "## 2742 기찍N\n",
    "자연수 N이 주어졌을 때, N부터 1까지 한 줄에 하나씩 출력하는 프로그램을 작성하시오.\n",
    "### 입력\n",
    "- 첫째 줄에 100,000보다 작거나 같은 자연수 N이 주어진다.\n",
    "### 출력\n",
    "- 첫째 줄부터 N번째 줄 까지 차례대로 출력한다.\n",
    "### 예제 입력 1\n",
    "- 5\n",
    "### 예제 출력 1\n",
    "- 5\n",
    "- 4\n",
    "- 3\n",
    "- 2\n",
    "- 1"
   ]
  },
  {
   "cell_type": "code",
   "execution_count": 8,
   "id": "eca41833",
   "metadata": {},
   "outputs": [
    {
     "name": "stdout",
     "output_type": "stream",
     "text": [
      "3\n",
      "3\n",
      "2\n",
      "1\n"
     ]
    }
   ],
   "source": [
    "n = int(input())\n",
    "\n",
    "for _ in reversed(range(n)): #증감식이 없는 대신 역순으로 for문을 쓰고 싶으면 reversed를 쓰면된다.\n",
    "    print(_ + 1)"
   ]
  },
  {
   "cell_type": "markdown",
   "id": "4d5d2339",
   "metadata": {},
   "source": [
    "## 11021 A+B - 7\n",
    "두 정수 A와 B를 입력받은 다음, A+B를 출력하는 프로그램을 작성하시오.\n",
    "### 입력\n",
    "- 첫째 줄에 테스트 케이스의 개수 T가 주어진다.\n",
    "- 각 테스트 케이스는 한 줄로 이루어져 있으며, 각 줄에 A와 B가 주어진다. (0 < A, B < 10)\n",
    "### 출력\n",
    "- 각 테스트 케이스마다 \"Case #x: \"를 출력한 다음, A+B를 출력한다. 테스트 케이스 번호는 1부터 시작한다.\n",
    "### 예제 입력 1\n",
    "- 5\n",
    "- 1 1\n",
    "- 2 3\n",
    "- 3 4\n",
    "- 9 8\n",
    "- 5 2\n",
    "### 예제 출력 1\n",
    "- Case #1: 2\n",
    "- Case #2: 5\n",
    "- Case #3: 7\n",
    "- Case #4: 17\n",
    "- Case #5: 7"
   ]
  },
  {
   "cell_type": "code",
   "execution_count": 9,
   "id": "0283421f",
   "metadata": {},
   "outputs": [
    {
     "name": "stdout",
     "output_type": "stream",
     "text": [
      "1\n",
      "1 1\n",
      "Case #1: 2\n"
     ]
    }
   ],
   "source": [
    "t = int(input())\n",
    "\n",
    "for i in range(t):\n",
    "    a, b = map(int, input().split())\n",
    "    print(\"Case #\",(i + 1),\": \",(a + b), sep = \"\")\n",
    "# print 문 안에 , 사이에는 공백이 포함되는데 이를 sep인자로 제어할 수 있다."
   ]
  },
  {
   "cell_type": "markdown",
   "id": "c8dff4d2",
   "metadata": {},
   "source": [
    "## 11022 A+B - 8\n",
    "두 정수 A와 B를 입력받은 다음, A+B를 출력하는 프로그램을 작성하시오.\n",
    "### 입력\n",
    "- 첫째 줄에 테스트 케이스의 개수 T가 주어진다.\n",
    "- 각 테스트 케이스는 한 줄로 이루어져 있으며, 각 줄에 A와 B가 주어진다. (0 < A, B < 10)\n",
    "### 출력\n",
    "- 각 테스트 케이스마다 \"Case #x: A + B = C\" 형식으로 출력한다. x는 테스트 케이스 번호이고 1부터 시작하며, C는 A+B이다.\n",
    "### 예제 입력 1\n",
    "- 5\n",
    "- 1 1\n",
    "- 2 3\n",
    "- 3 4\n",
    "- 9 8\n",
    "- 5 2\n",
    "### 예제 출력 1\n",
    "- Case #1: 1 + 1 = 2\n",
    "- Case #2: 2 + 3 = 5\n",
    "- Case #3: 3 + 4 = 7\n",
    "- Case #4: 9 + 8 = 17\n",
    "- Case #5: 5 + 2 = 7"
   ]
  },
  {
   "cell_type": "code",
   "execution_count": 10,
   "id": "c44b7e52",
   "metadata": {},
   "outputs": [
    {
     "name": "stdout",
     "output_type": "stream",
     "text": [
      "1\n",
      "1 3\n",
      "Case #1: 1 + 3 = 4\n"
     ]
    }
   ],
   "source": [
    "t = int(input())\n",
    "\n",
    "for i in range(t):\n",
    "    a, b = map(int, input().split())\n",
    "    print(\"Case #\",(i + 1),\": \",a ,\" + \",b,\" = \",(a + b), sep = \"\")"
   ]
  },
  {
   "cell_type": "markdown",
   "id": "6e110bfd",
   "metadata": {},
   "source": [
    "## 2438 별 찍기 - 1\n",
    "첫째 줄에는 별 1개, 둘째 줄에는 별 2개, N번째 줄에는 별 N개를 찍는 문제\n",
    "### 입력\n",
    "- 첫째 줄에 N(1 ≤ N ≤ 100)이 주어진다.\n",
    "### 출력\n",
    "- 첫째 줄부터 N번째 줄까지 차례대로 별을 출력한다.\n",
    "### 예제 입력 1\n",
    "- 5\n",
    "### 예제 출력 1\n",
    "- \\*\n",
    "- \\**\n",
    "- \\***\n",
    "- \\****\n",
    "- \\*****"
   ]
  },
  {
   "cell_type": "code",
   "execution_count": 11,
   "id": "1d48e57d",
   "metadata": {},
   "outputs": [
    {
     "name": "stdout",
     "output_type": "stream",
     "text": [
      "5\n",
      "*\n",
      "**\n",
      "***\n",
      "****\n",
      "*****\n"
     ]
    }
   ],
   "source": [
    "n = int(input())\n",
    "\n",
    "for i in range(n):\n",
    "    print(\"*\" * (i + 1))"
   ]
  },
  {
   "cell_type": "markdown",
   "id": "3959d37b",
   "metadata": {},
   "source": [
    "## 2439 별 찍기 - 2\n",
    "첫째 줄에는 별 1개, 둘째 줄에는 별 2개, N번째 줄에는 별 N개를 찍는 문제\n",
    "하지만, 오른쪽을 기준으로 정렬한 별(예제 참고)을 출력하시오.\n",
    "### 입력\n",
    "- 첫째 줄에 N(1 ≤ N ≤ 100)이 주어진다.\n",
    "### 출력\n",
    "- 첫째 줄부터 N번째 줄까지 차례대로 별을 출력한다.\n",
    "### 예제 입력 1\n",
    "- 5\n",
    "### 예제 출력 1\n",
    "- &nbsp;&nbsp;&nbsp;&nbsp;*\n",
    "- &nbsp;&nbsp;&nbsp;**\n",
    "- &nbsp;&nbsp;***\n",
    "- &nbsp;****\n",
    "- \\*****"
   ]
  },
  {
   "cell_type": "code",
   "execution_count": null,
   "id": "7419eec9",
   "metadata": {},
   "outputs": [],
   "source": [
    "n = int(input())\n",
    "\n",
    "for i in range(n):\n",
    "    print((\"*\" * (i + 1)).rjust(n, \" \")) \n",
    "\n",
    "# rjust(자리수, 문자형 arg): 빈자리수만큼 \"문자형 arg\"로 채워준다(오른쪽 정렬).\n",
    "# 왼쪽정렬은 ljust(자리수, 문자형arg)\n",
    "# zfill(num)은 왼쪽을 num만큼 자리 중 빈 자리를 0으로 채워준다."
   ]
  },
  {
   "cell_type": "markdown",
   "id": "50ce1d9d",
   "metadata": {},
   "source": [
    "## 10871 X보다 작은 수\n",
    "정수 N개로 이루어진 수열 A와 정수 X가 주어진다. 이때, A에서 X보다 작은 수를 모두 출력하는 프로그램을 작성하시오.\n",
    "### 입력\n",
    "- 첫째 줄에 N과 X가 주어진다. (1 ≤ N, X ≤ 10,000)\n",
    "- 둘째 줄에 수열 A를 이루는 정수 N개가 주어진다. 주어지는 정수는 모두 1보다 크거나 같고, 10,000보다 작거나 같은 정수이다.\n",
    "### 출력\n",
    "- X보다 작은 수를 입력받은 순서대로 공백으로 구분해 출력한다. X보다 작은 수는 적어도 하나 존재한다. \n",
    "### 예제 입력 1\n",
    "- 10 5\n",
    "- 1 10 4 9 2 3 8 5 7 6\n",
    "### 예제 출력 1\n",
    "- 1 4 2 3"
   ]
  },
  {
   "cell_type": "code",
   "execution_count": 13,
   "id": "4d8da073",
   "metadata": {},
   "outputs": [
    {
     "name": "stdout",
     "output_type": "stream",
     "text": [
      "3 5\n",
      "1 2 3\n",
      "1 2 3 "
     ]
    }
   ],
   "source": [
    "n, x = map(int, input().split())\n",
    "a = list(map(int, input().split()))\n",
    "\n",
    "for i in range(n):\n",
    "    if(x > a[i]):\n",
    "        print(a[i], end=' ')\n",
    "\n",
    "# print 문 안에 , end='\\n' 이 디폴트로 삽입돼 있어 자동줄바꿈을 해주는 것처럼 보인다.\n",
    "# 줄바꿈 없이 출력할 때에는 end인자로 제어할 수 있다.\n",
    "# cf) 공백 제어는 sep인자로 제어한다."
   ]
  }
 ],
 "metadata": {
  "kernelspec": {
   "display_name": "Python 3",
   "language": "python",
   "name": "python3"
  },
  "language_info": {
   "codemirror_mode": {
    "name": "ipython",
    "version": 3
   },
   "file_extension": ".py",
   "mimetype": "text/x-python",
   "name": "python",
   "nbconvert_exporter": "python",
   "pygments_lexer": "ipython3",
   "version": "3.8.8"
  }
 },
 "nbformat": 4,
 "nbformat_minor": 5
}
